{
 "cells": [
  {
   "cell_type": "code",
   "execution_count": 1,
   "id": "4cace3f7-6c26-4f1f-8c1f-bbf668821446",
   "metadata": {},
   "outputs": [
    {
     "name": "stdout",
     "output_type": "stream",
     "text": [
      "Marka: Toyota, Model: Corolla\n"
     ]
    }
   ],
   "source": [
    "class Araba:\n",
    "    def __init__(self, marka, model):\n",
    "        self.marka = marka\n",
    "        self.model = model\n",
    "\n",
    "    def bilgileri_yazdir(self):\n",
    "        print(f\"Marka: {self.marka}, Model: {self.model}\")\n",
    "\n",
    "# Kullanım\n",
    "araba1 = Araba(\"Toyota\", \"Corolla\")\n",
    "araba1.bilgileri_yazdir()\n"
   ]
  },
  {
   "cell_type": "code",
   "execution_count": 2,
   "id": "a2099b34-dc29-4287-8288-9e241a336183",
   "metadata": {},
   "outputs": [
    {
     "name": "stdout",
     "output_type": "stream",
     "text": [
      "Dikdörtgenin alanı: 50\n"
     ]
    }
   ],
   "source": [
    "class Dikdortgen:\n",
    "    def __init__(self, genislik, yukseklik):\n",
    "        self.genislik = genislik\n",
    "        self.yukseklik = yukseklik\n",
    "\n",
    "    def alan_hesapla(self):\n",
    "        return self.genislik * self.yukseklik\n",
    "\n",
    "# Kullanım\n",
    "dikdortgen1 = Dikdortgen(5, 10)\n",
    "alan = dikdortgen1.alan_hesapla()\n",
    "print(f\"Dikdörtgenin alanı: {alan}\")\n"
   ]
  },
  {
   "cell_type": "code",
   "execution_count": 3,
   "id": "4a4a1aec-6299-43d9-ab85-937a5121824e",
   "metadata": {},
   "outputs": [
    {
     "name": "stdout",
     "output_type": "stream",
     "text": [
      "* * * * * \n",
      "* * * * * \n",
      "* * * * * \n",
      "* * * * * \n",
      "* * * * * \n"
     ]
    }
   ],
   "source": [
    "class Kare:\n",
    "    def __init__(self, kenar):\n",
    "        self.kenar = kenar\n",
    "\n",
    "    def kareyi_yazdir(self):\n",
    "        for i in range(self.kenar):\n",
    "            print(\"* \" * self.kenar)\n",
    "\n",
    "# Kare sınıfından bir nesne oluşturma ve kareyi yazdırma\n",
    "kare1 = Kare(5)\n",
    "kare1.kareyi_yazdir()\n"
   ]
  },
  {
   "cell_type": "code",
   "execution_count": 4,
   "id": "54fb2bfe-b784-4a11-9783-a94672410922",
   "metadata": {},
   "outputs": [
    {
     "name": "stdout",
     "output_type": "stream",
     "text": [
      "* * * * * \n",
      "* * * * * \n",
      "* * * * * \n",
      "* * * * * \n",
      "* * * * * \n"
     ]
    }
   ],
   "source": [
    "class Kare:\n",
    "    def __init__(self, kenar_uzunlugu):\n",
    "        self.kenar_uzunlugu = kenar_uzunlugu\n",
    "\n",
    "    def kareyi_yazdir(self):\n",
    "        for i in range(self.kenar_uzunlugu):\n",
    "            print('* ' * self.kenar_uzunlugu)\n",
    "\n",
    "# Kullanım örneği:\n",
    "kare = Kare(5)\n",
    "kare.kareyi_yazdir()\n"
   ]
  },
  {
   "cell_type": "code",
   "execution_count": 5,
   "id": "9988edd8-afc1-4ce8-adaf-a6874cefc9bf",
   "metadata": {},
   "outputs": [
    {
     "name": "stdout",
     "output_type": "stream",
     "text": [
      "İki sayının toplamı: 30\n",
      "Üç sayının toplamı: 60\n"
     ]
    }
   ],
   "source": [
    "class HesapMakinesi:\n",
    "    def topla(self, sayi1, sayi2, sayi3=None):\n",
    "        if sayi3 is not None:\n",
    "            return sayi1 + sayi2 + sayi3\n",
    "        else:\n",
    "            return sayi1 + sayi2\n",
    "\n",
    "# HesapMakinesi sınıfından bir nesne oluşturma\n",
    "hesap_makinesi = HesapMakinesi()\n",
    "\n",
    "# İki sayı ile toplama\n",
    "sonuc1 = hesap_makinesi.topla(10, 20)\n",
    "print(\"İki sayının toplamı:\", sonuc1)\n",
    "\n",
    "# Üç sayı ile toplama\n",
    "sonuc2 = hesap_makinesi.topla(10, 20, 30)\n",
    "print(\"Üç sayının toplamı:\", sonuc2)\n"
   ]
  },
  {
   "cell_type": "code",
   "execution_count": 6,
   "id": "6020f440-7353-4c85-9f1c-fe660dd6e1b0",
   "metadata": {},
   "outputs": [
    {
     "name": "stdout",
     "output_type": "stream",
     "text": [
      "Merhaba Dünya\n"
     ]
    }
   ],
   "source": [
    "class Merhaba:\n",
    "    def merhaba_yazdir(self):\n",
    "        print(\"Merhaba Dünya\")\n",
    "\n",
    "# Merhaba sınıfından bir nesne oluşturma ve metodu çağırma\n",
    "merhaba = Merhaba()\n",
    "merhaba.merhaba_yazdir()\n"
   ]
  },
  {
   "cell_type": "code",
   "execution_count": null,
   "id": "c2876032-7037-4ed3-a284-ce7a16975a54",
   "metadata": {},
   "outputs": [],
   "source": []
  }
 ],
 "metadata": {
  "kernelspec": {
   "display_name": "Python 3 (ipykernel)",
   "language": "python",
   "name": "python3"
  },
  "language_info": {
   "codemirror_mode": {
    "name": "ipython",
    "version": 3
   },
   "file_extension": ".py",
   "mimetype": "text/x-python",
   "name": "python",
   "nbconvert_exporter": "python",
   "pygments_lexer": "ipython3",
   "version": "3.11.5"
  }
 },
 "nbformat": 4,
 "nbformat_minor": 5
}
