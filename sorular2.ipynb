{
 "cells": [
  {
   "cell_type": "code",
   "execution_count": 1,
   "id": "b9269878-1aa3-46ea-a369-77601df2c55d",
   "metadata": {},
   "outputs": [
    {
     "name": "stdout",
     "output_type": "stream",
     "text": [
      "Merhaba, ben Hoca Ahmet. Sicil numaram H123.\n",
      "Hoca Ahmet şu anda ders veriyor.\n",
      "Ben sekreter Ayşe. Ofis numaram A201.\n",
      "Sekreter Ayşe, randevuları ayarlıyor.\n",
      "Ben öğrenci Mehmet. Bölümüm Bilgisayar Mühendisliği.\n",
      "Mehmet şu anda ders çalışıyor.\n"
     ]
    }
   ],
   "source": [
    "# Üst sınıf: İnsan\n",
    "class Insan:\n",
    "    def __init__(self, ad, yas):\n",
    "        self.ad = ad\n",
    "        self.yas = yas\n",
    "\n",
    "    def konus(self):\n",
    "        print(f\"Ben {self.ad}, {self.yas} yaşındayım.\")\n",
    "\n",
    "\n",
    "# Alt sınıf: Hoca\n",
    "class Hoca(Insan):\n",
    "    def __init__(self, ad, yas, sicil_no):\n",
    "        super().__init__(ad, yas)\n",
    "        self.sicil_no = sicil_no\n",
    "\n",
    "    # konus metodunu ezme (override)\n",
    "    def konus(self):\n",
    "        print(f\"Merhaba, ben Hoca {self.ad}. Sicil numaram {self.sicil_no}.\")\n",
    "\n",
    "    def ders_ver(self):\n",
    "        print(f\"Hoca {self.ad} şu anda ders veriyor.\")\n",
    "\n",
    "\n",
    "# Alt sınıf: Sekreter\n",
    "class Sekreter(Insan):\n",
    "    def __init__(self, ad, yas, ofis_no):\n",
    "        super().__init__(ad, yas)\n",
    "        self.ofis_no = ofis_no\n",
    "\n",
    "    def konus(self):\n",
    "        print(f\"Ben sekreter {self.ad}. Ofis numaram {self.ofis_no}.\")\n",
    "\n",
    "    def randevu_ayarla(self):\n",
    "        print(f\"Sekreter {self.ad}, randevuları ayarlıyor.\")\n",
    "\n",
    "\n",
    "# Alt sınıf: Öğrenci\n",
    "class Ogrenci(Insan):\n",
    "    def __init__(self, ad, yas, ogrenci_no, bolum):\n",
    "        super().__init__(ad, yas)\n",
    "        self.ogrenci_no = ogrenci_no\n",
    "        self.bolum = bolum\n",
    "\n",
    "    def konus(self):\n",
    "        print(f\"Ben öğrenci {self.ad}. Bölümüm {self.bolum}.\")\n",
    "\n",
    "    def ders_calıs(self):\n",
    "        print(f\"{self.ad} şu anda ders çalışıyor.\")\n",
    "\n",
    "\n",
    "# --- Örnek kullanım ---\n",
    "hoca = Hoca(\"Ahmet\", 40, \"H123\")\n",
    "sekreter = Sekreter(\"Ayşe\", 35, \"A201\")\n",
    "ogrenci = Ogrenci(\"Mehmet\", 21, \"O456\", \"Bilgisayar Mühendisliği\")\n",
    "\n",
    "hoca.konus()\n",
    "hoca.ders_ver()\n",
    "\n",
    "sekreter.konus()\n",
    "sekreter.randevu_ayarla()\n",
    "\n",
    "ogrenci.konus()\n",
    "ogrenci.ders_calıs()\n"
   ]
  },
  {
   "cell_type": "code",
   "execution_count": null,
   "id": "fb6416e6-808d-4539-8b06-342ce41769c8",
   "metadata": {},
   "outputs": [],
   "source": []
  }
 ],
 "metadata": {
  "kernelspec": {
   "display_name": "Python 3 (ipykernel)",
   "language": "python",
   "name": "python3"
  },
  "language_info": {
   "codemirror_mode": {
    "name": "ipython",
    "version": 3
   },
   "file_extension": ".py",
   "mimetype": "text/x-python",
   "name": "python",
   "nbconvert_exporter": "python",
   "pygments_lexer": "ipython3",
   "version": "3.11.5"
  }
 },
 "nbformat": 4,
 "nbformat_minor": 5
}
