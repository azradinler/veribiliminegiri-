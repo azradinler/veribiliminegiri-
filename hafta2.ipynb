{
 "cells": [
  {
   "cell_type": "code",
   "execution_count": 2,
   "id": "779b412f-d7ec-48bc-96d3-d80335bd19bf",
   "metadata": {},
   "outputs": [
    {
     "name": "stdin",
     "output_type": "stream",
     "text": [
      "Birinci sayıyı girin:  25\n",
      "İkinci sayıyı girin:  32\n"
     ]
    },
    {
     "name": "stdout",
     "output_type": "stream",
     "text": [
      "Toplam: 57.0\n"
     ]
    }
   ],
   "source": [
    "sayi1 = float(input(\"Birinci sayıyı girin: \"))\n",
    "sayi2 = float(input(\"İkinci sayıyı girin: \"))\n",
    "\n",
    "toplam = sayi1 + sayi2\n",
    "print(\"Toplam:\", toplam)\n"
   ]
  },
  {
   "cell_type": "code",
   "execution_count": 3,
   "id": "e6101770-6289-4d99-8cd0-3e15b6263948",
   "metadata": {},
   "outputs": [
    {
     "name": "stdin",
     "output_type": "stream",
     "text": [
      "Bir sayı girin:  56\n"
     ]
    },
    {
     "name": "stdout",
     "output_type": "stream",
     "text": [
      "56 çift sayıdır.\n"
     ]
    }
   ],
   "source": [
    "sayi = int(input(\"Bir sayı girin: \"))\n",
    "\n",
    "if sayi % 2 == 0:\n",
    "    print(f\"{sayi} çift sayıdır.\")\n",
    "else:\n",
    "    print(f\"{sayi} tek sayıdır.\")\n"
   ]
  },
  {
   "cell_type": "code",
   "execution_count": 4,
   "id": "84a2c812-4e1f-4357-90cd-e1f3866f8eb5",
   "metadata": {},
   "outputs": [
    {
     "name": "stdin",
     "output_type": "stream",
     "text": [
      "Faktöriyeli hesaplanacak sayıyı girin:  4\n"
     ]
    },
    {
     "name": "stdout",
     "output_type": "stream",
     "text": [
      "4! = 1 * 2 * 3 * 4 = 24\n"
     ]
    }
   ],
   "source": [
    "sayi = int(input(\"Faktöriyeli hesaplanacak sayıyı girin: \"))\n",
    "\n",
    "faktoriyel = 1\n",
    "acilim = \"\"\n",
    "\n",
    "for i in range(1, sayi + 1):\n",
    "    faktoriyel *= i\n",
    "    acilim += str(i)\n",
    "    if i != sayi:\n",
    "        acilim += \" * \"\n",
    "\n",
    "print(f\"{sayi}! = {acilim} = {faktoriyel}\")\n"
   ]
  },
  {
   "cell_type": "code",
   "execution_count": 5,
   "id": "705e186b-ae68-47f1-9c2c-4d572f228dfb",
   "metadata": {},
   "outputs": [
    {
     "name": "stdin",
     "output_type": "stream",
     "text": [
      "Bir metin girin:  aktöriyeli hesaplanacak sayıy\n"
     ]
    },
    {
     "name": "stdout",
     "output_type": "stream",
     "text": [
      "a,k,t,ö,r,i,y,e,l,i, ,h,e,s,a,p,l,a,n,a,c,a,k, ,s,a,y,ı,y\n"
     ]
    }
   ],
   "source": [
    "metin = input(\"Bir metin girin: \")\n",
    "print(\",\".join(metin))\n"
   ]
  },
  {
   "cell_type": "code",
   "execution_count": 6,
   "id": "cd7c8915-0ff5-49e8-8557-add64cbc01fe",
   "metadata": {},
   "outputs": [
    {
     "name": "stdin",
     "output_type": "stream",
     "text": [
      "Bir cümle girin:  Faktöriyeli hesaplanacak sayıyı girin:  4\n"
     ]
    },
    {
     "name": "stdout",
     "output_type": "stream",
     "text": [
      "En uzun kelime: hesaplanacak\n",
      "Uzunluğu: 12\n"
     ]
    }
   ],
   "source": [
    "cumle = input(\"Bir cümle girin: \")\n",
    "kelimeler = cumle.split()\n",
    "\n",
    "en_uzun = max(kelimeler, key=len)\n",
    "print(\"En uzun kelime:\", en_uzun)\n",
    "print(\"Uzunluğu:\", len(en_uzun))\n"
   ]
  },
  {
   "cell_type": "code",
   "execution_count": 7,
   "id": "e184390b-75e8-45bc-b41a-469281cdb4e5",
   "metadata": {},
   "outputs": [
    {
     "name": "stdin",
     "output_type": "stream",
     "text": [
      "1. kenar:  4\n",
      "2. kenar:  2\n",
      "3. kenar:  4\n"
     ]
    },
    {
     "name": "stdout",
     "output_type": "stream",
     "text": [
      "Üçgenin alanı: 3.872983346207417\n"
     ]
    }
   ],
   "source": [
    "a = float(input(\"1. kenar: \"))\n",
    "b = float(input(\"2. kenar: \"))\n",
    "c = float(input(\"3. kenar: \"))\n",
    "\n",
    "# Heron formülü\n",
    "s = (a + b + c) / 2\n",
    "alan = (s * (s - a) * (s - b) * (s - c)) ** 0.5\n",
    "\n",
    "print(\"Üçgenin alanı:\", alan)\n"
   ]
  },
  {
   "cell_type": "code",
   "execution_count": 8,
   "id": "7db7c956-264a-43cd-a555-2e948211e0f3",
   "metadata": {},
   "outputs": [
    {
     "name": "stdin",
     "output_type": "stream",
     "text": [
      "Bir metin girin:  Bir cümle girin:  Faktöriyeli hesaplanacak sayıyı girin:  4\n"
     ]
    },
    {
     "name": "stdout",
     "output_type": "stream",
     "text": [
      "Metindeki sesli harf sayısı: 20\n"
     ]
    }
   ],
   "source": [
    "metin = input(\"Bir metin girin: \")\n",
    "sesli_harfler = \"aeıioöuüAEIİOÖUÜ\"\n",
    "sayac = sum(1 for harf in metin if harf in sesli_harfler)\n",
    "\n",
    "print(f\"Metindeki sesli harf sayısı: {sayac}\")\n"
   ]
  },
  {
   "cell_type": "code",
   "execution_count": 9,
   "id": "5732fd4d-5e99-4acc-8b80-82abe60cfa0d",
   "metadata": {},
   "outputs": [
    {
     "name": "stdin",
     "output_type": "stream",
     "text": [
      "Bir cümle girin:  n girin:  Bir cümle girin:  Faktöriyeli hesaplan\n"
     ]
    },
    {
     "name": "stdout",
     "output_type": "stream",
     "text": [
      "n :nirig riB elmüc :nirig ileyirötkaF nalpaseh\n"
     ]
    }
   ],
   "source": [
    "cumle = input(\"Bir cümle girin: \")\n",
    "\n",
    "kelimeler = cumle.split()\n",
    "ters_kelimeler = [kelime[::-1] for kelime in kelimeler]\n",
    "\n",
    "print(\" \".join(ters_kelimeler))\n"
   ]
  },
  {
   "cell_type": "code",
   "execution_count": 10,
   "id": "c021066a-d7a5-4915-88de-a84804132707",
   "metadata": {},
   "outputs": [
    {
     "name": "stdout",
     "output_type": "stream",
     "text": [
      "Üretilen rastgele sayılar: [77, 6, 59, 29, 2, 88, 27, 20, 21, 52]\n"
     ]
    }
   ],
   "source": [
    "import random\n",
    "\n",
    "sayilar = [random.randint(1, 100) for _ in range(10)]\n",
    "\n",
    "print(\"Üretilen rastgele sayılar:\", sayilar)\n"
   ]
  },
  {
   "cell_type": "code",
   "execution_count": 11,
   "id": "1f982c4e-b350-4cdd-a860-af22780e4437",
   "metadata": {},
   "outputs": [
    {
     "name": "stdout",
     "output_type": "stream",
     "text": [
      "-100 -95 -90 -85 -80 -75 -70 -65 -60 -55 -50 -45 -40 -35 -30 -25 -20 -15 -10 -5 0 5 10 15 20 25 30 35 40 45 50 55 60 65 70 75 80 85 90 95 100 "
     ]
    }
   ],
   "source": [
    "for i in range(-100, 101):\n",
    "    if i % 5 == 0:\n",
    "        print(i, end=\" \")\n"
   ]
  },
  {
   "cell_type": "code",
   "execution_count": 12,
   "id": "ec2ce7a8-3a1a-4378-b919-d4f766573b70",
   "metadata": {},
   "outputs": [
    {
     "name": "stdin",
     "output_type": "stream",
     "text": [
      "Notunuzu girin (0-100):  35\n"
     ]
    },
    {
     "name": "stdout",
     "output_type": "stream",
     "text": [
      "FF - Kaldınız.\n"
     ]
    }
   ],
   "source": [
    "notu = float(input(\"Notunuzu girin (0-100): \"))\n",
    "\n",
    "if notu >= 90:\n",
    "    print(\"AA\")\n",
    "elif notu >= 80:\n",
    "    print(\"BA\")\n",
    "elif notu >= 70:\n",
    "    print(\"BB\")\n",
    "elif notu >= 60:\n",
    "    print(\"CB\")\n",
    "elif notu >= 50:\n",
    "    print(\"CC\")\n",
    "else:\n",
    "    print(\"FF - Kaldınız.\")\n"
   ]
  },
  {
   "cell_type": "code",
   "execution_count": 13,
   "id": "5b009441-a2dd-4b41-8f8e-1d59dd215b1d",
   "metadata": {},
   "outputs": [
    {
     "name": "stdin",
     "output_type": "stream",
     "text": [
      "Personel maaşını girin:  65000\n",
      "Zam oranını girin (%):  34\n"
     ]
    },
    {
     "name": "stdout",
     "output_type": "stream",
     "text": [
      "Yeni maaş: 87100.00 TL\n"
     ]
    }
   ],
   "source": [
    "maas = float(input(\"Personel maaşını girin: \"))\n",
    "zam_orani = float(input(\"Zam oranını girin (%): \"))\n",
    "\n",
    "yeni_maas = maas + (maas * zam_orani / 100)\n",
    "\n",
    "print(f\"Yeni maaş: {yeni_maas:.2f} TL\")\n"
   ]
  },
  {
   "cell_type": "code",
   "execution_count": 15,
   "id": "46e3b1e0-1e64-4c17-83fd-73699d609157",
   "metadata": {},
   "outputs": [
    {
     "name": "stdout",
     "output_type": "stream",
     "text": [
      "Kümülatif toplamlar: [1, 3, 6, 10, 15]\n"
     ]
    }
   ],
   "source": [
    "sayilar = [1, 2, 3, 4, 5]\n",
    "kumulatif = []\n",
    "toplam = 0\n",
    "\n",
    "for s in sayilar:\n",
    "    toplam += s\n",
    "    kumulatif.append(toplam)\n",
    "\n",
    "print(\"Kümülatif toplamlar:\", kumulatif)\n"
   ]
  },
  {
   "cell_type": "code",
   "execution_count": 16,
   "id": "8a2985a9-194d-4c28-9c94-e7bac337cc11",
   "metadata": {},
   "outputs": [
    {
     "name": "stdin",
     "output_type": "stream",
     "text": [
      "Bir cümle girin:  Kümülatif toplamlar:\n"
     ]
    },
    {
     "name": "stdout",
     "output_type": "stream",
     "text": [
      "İlk kelime: Kümülatif\n",
      "Son kelime: toplamlar:\n"
     ]
    }
   ],
   "source": [
    "cumle = input(\"Bir cümle girin: \").strip()\n",
    "kelimeler = cumle.split()\n",
    "\n",
    "if len(kelimeler) > 0:\n",
    "    print(\"İlk kelime:\", kelimeler[0])\n",
    "    print(\"Son kelime:\", kelimeler[-1])\n",
    "else:\n",
    "    print(\"Boş metin girdiniz.\")\n"
   ]
  },
  {
   "cell_type": "code",
   "execution_count": null,
   "id": "dfefca96-bdea-42fa-bce0-b399f94a7a85",
   "metadata": {},
   "outputs": [],
   "source": []
  }
 ],
 "metadata": {
  "kernelspec": {
   "display_name": "Python 3 (ipykernel)",
   "language": "python",
   "name": "python3"
  },
  "language_info": {
   "codemirror_mode": {
    "name": "ipython",
    "version": 3
   },
   "file_extension": ".py",
   "mimetype": "text/x-python",
   "name": "python",
   "nbconvert_exporter": "python",
   "pygments_lexer": "ipython3",
   "version": "3.11.5"
  }
 },
 "nbformat": 4,
 "nbformat_minor": 5
}
