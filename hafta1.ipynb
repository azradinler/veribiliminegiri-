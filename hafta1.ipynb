{
 "cells": [
  {
   "cell_type": "code",
   "execution_count": 1,
   "id": "dcd08efc-ad6b-436e-b754-1843f44f80f0",
   "metadata": {},
   "outputs": [
    {
     "name": "stdout",
     "output_type": "stream",
     "text": [
      "azra\n",
      "azra.dinler.T.B.M\n"
     ]
    }
   ],
   "source": [
    "print(\"azra\")\n",
    "print(\"azra\",\"dinler\",\"T\",\"B\",\"M\",sep='.')"
   ]
  },
  {
   "cell_type": "code",
   "execution_count": 6,
   "id": "cbdc79ba-7240-49a1-8003-34d6ff3e9113",
   "metadata": {},
   "outputs": [
    {
     "data": {
      "text/plain": [
       "'\\nçoklu\\n\\n'"
      ]
     },
     "execution_count": 6,
     "metadata": {},
     "output_type": "execute_result"
    }
   ],
   "source": [
    "a=\"ali\"\n",
    "b=5\n",
    "type(a)\n",
    "type(b)\n",
    "# tek,\n",
    "\"\"\"\n",
    "çoklu\n",
    "\n",
    "\"\"\""
   ]
  },
  {
   "cell_type": "code",
   "execution_count": 8,
   "id": "96bd15a8-18ab-4bf8-8a44-908edfb31923",
   "metadata": {},
   "outputs": [],
   "source": [
    "x= 4 #integer veri tipi\n",
    "y=\"mustafa\" #string\n",
    "z= 3.01 #float\n",
    "q='A' #karakter veri tipi"
   ]
  },
  {
   "cell_type": "code",
   "execution_count": 7,
   "id": "f5630fe5-470c-4823-ac3d-f050883c613b",
   "metadata": {},
   "outputs": [
    {
     "data": {
      "text/plain": [
       "0"
      ]
     },
     "execution_count": 7,
     "metadata": {},
     "output_type": "execute_result"
    }
   ],
   "source": [
    "liste1=[1,3,3,5,4,5,4,\"ali\",\"canan\"]\n",
    "liste1[0] #indis,indexler 0 dan başlar\n",
    "len(liste1) #sayma sayıları 1 den başlar\n",
    "dir(liste1) #built in functions\n",
    "liste2=[1,3,3,5,4,5,4]\n",
    "liste2.sort()\n",
    "liste2\n",
    "liste2[0]=100000 #mutable değişir\n",
    "liste2[0]\n",
    "liste2\n",
    "liste2.pop()\n",
    "liste2.append(25)\n",
    "liste2.insert(7,\"25\")\n",
    "liste2\n",
    "liste2[7]\n",
    "demet=(\"ali\",\"ayşe\")\n",
    "demet\n",
    "len(demet)\n",
    "demet[0]\n",
    "dir(demet)\n",
    "demet.count(\"ali\")#sayma sayıları 1 den\n",
    "demet.index(\"ali\")"
   ]
  },
  {
   "cell_type": "code",
   "execution_count": 11,
   "id": "6912ee03-6dc3-4413-b1b5-fc7a14db916e",
   "metadata": {},
   "outputs": [
    {
     "data": {
      "text/plain": [
       "'Sinan'"
      ]
     },
     "execution_count": 11,
     "metadata": {},
     "output_type": "execute_result"
    }
   ],
   "source": [
    "x=\"sinan\"\n",
    "type(x) #string ilkerl veri\n",
    "x.capitalize()"
   ]
  },
  {
   "cell_type": "code",
   "execution_count": 12,
   "id": "ec43e264-2ace-4fea-8e43-4c1d82c07ca7",
   "metadata": {},
   "outputs": [
    {
     "name": "stdout",
     "output_type": "stream",
     "text": [
      "selam\n",
      "Help on built-in function print in module builtins:\n",
      "\n",
      "print(*args, sep=' ', end='\\n', file=None, flush=False)\n",
      "    Prints the values to a stream, or to sys.stdout by default.\n",
      "    \n",
      "    sep\n",
      "      string inserted between values, default a space.\n",
      "    end\n",
      "      string appended after the last value, default a newline.\n",
      "    file\n",
      "      a file-like object (stream); defaults to the current sys.stdout.\n",
      "    flush\n",
      "      whether to forcibly flush the stream.\n",
      "\n"
     ]
    }
   ],
   "source": [
    "def selam():\n",
    "    print(\"selam\")\n",
    "    help(print) # ?print\n",
    "selam() #parametre almayan, değer döndürmeyen function\n",
    "def selamGotur(isim):\n",
    "    print(\"selam\",isim)\n",
    "    selamGotur(\"sinan\") #parametre alan değer döndürmeyen\n",
    "def topla():\n",
    "    print(\"toplama yapan fonks.\")"
   ]
  },
  {
   "cell_type": "code",
   "execution_count": 16,
   "id": "09d06fd4-1072-4b41-8d62-8492681e9911",
   "metadata": {},
   "outputs": [
    {
     "name": "stdout",
     "output_type": "stream",
     "text": [
      "alınan degerleri:  5\n"
     ]
    },
    {
     "ename": "TypeError",
     "evalue": "topla() takes 1 positional argument but 2 were given",
     "output_type": "error",
     "traceback": [
      "\u001b[1;31m---------------------------------------------------------------------------\u001b[0m",
      "\u001b[1;31mTypeError\u001b[0m                                 Traceback (most recent call last)",
      "Cell \u001b[1;32mIn[16], line 6\u001b[0m\n\u001b[0;32m      4\u001b[0m     \u001b[38;5;28mprint\u001b[39m(\u001b[38;5;124m\"\u001b[39m\u001b[38;5;124malınan degerleri: \u001b[39m\u001b[38;5;124m\"\u001b[39m,parametre)\n\u001b[0;32m      5\u001b[0m topla(\u001b[38;5;241m5\u001b[39m)\n\u001b[1;32m----> 6\u001b[0m topla(\u001b[38;5;241m3\u001b[39m,\u001b[38;5;241m5\u001b[39m)\n\u001b[0;32m      7\u001b[0m selam()\n\u001b[0;32m      8\u001b[0m selam(\u001b[38;5;124m\"\u001b[39m\u001b[38;5;124mazra\u001b[39m\u001b[38;5;124m\"\u001b[39m)\n",
      "\u001b[1;31mTypeError\u001b[0m: topla() takes 1 positional argument but 2 were given"
     ]
    }
   ],
   "source": [
    "def topla(deger,deger2):\n",
    "    print(\"{}, {} degerlerini alır\".format(deger,deger2))\n",
    "def topla(parametre):\n",
    "    print(\"alınan degerleri: \",parametre)\n",
    "topla(5)\n",
    "topla(3,5)\n",
    "selam()\n",
    "    selam(\"azra\")"
   ]
  },
  {
   "cell_type": "code",
   "execution_count": 19,
   "id": "af17b6bf-2563-4c4f-99fa-890a5e0baeba",
   "metadata": {},
   "outputs": [
    {
     "name": "stdout",
     "output_type": "stream",
     "text": [
      "istenilen değerin karesi 16: \n",
      "istenilen değerin karesi  64\n"
     ]
    }
   ],
   "source": [
    "def topla(a,b):\n",
    "    c=a+b\n",
    "    return c\n",
    "topla(3,5)\n",
    "def kareal(a):\n",
    "    return a*a\n",
    "sonuc=kareal(4)\n",
    "print(\"istenilen değerin karesi {}: \".format(sonuc))\n",
    "sonuc=kareal(8)\n",
    "print(\"istenilen değerin karesi \",sonuc)"
   ]
  },
  {
   "cell_type": "code",
   "execution_count": 20,
   "id": "b5d32403-dffb-4899-960e-5bfa65ceef52",
   "metadata": {},
   "outputs": [
    {
     "name": "stdout",
     "output_type": "stream",
     "text": [
      "sinan\n",
      "Help on built-in function format in module builtins:\n",
      "\n",
      "format(value, format_spec='', /)\n",
      "    Return value.__format__(format_spec)\n",
      "    \n",
      "    format_spec defaults to the empty string.\n",
      "    See the Format Specification Mini-Language section of help('FORMATTING') for\n",
      "    details.\n",
      "\n"
     ]
    },
    {
     "name": "stdin",
     "output_type": "stream",
     "text": [
      "1. sayıyı giriniz:  5\n",
      "2. sayıyı giriniz:  6\n"
     ]
    },
    {
     "name": "stdout",
     "output_type": "stream",
     "text": [
      "sonuc : -1\n",
      "sonuc : -1\n"
     ]
    },
    {
     "data": {
      "text/plain": [
       "-1"
      ]
     },
     "execution_count": 20,
     "metadata": {},
     "output_type": "execute_result"
    }
   ],
   "source": [
    "print(\"sinan\")\n",
    "def selam(d):\n",
    "    print(\"grilen deger\",d)\n",
    "help(format) #?format\n",
    "a= int(input(\"1. sayıyı giriniz: \"))\n",
    "b= int(input(\"2. sayıyı giriniz: \"))\n",
    "def cikar(x,y):\n",
    "    print(\"sonuc :\",a-b)\n",
    "    return a-b\n",
    "def kareal(x):\n",
    "    #print(\"a nın karesi:\",a*a)\n",
    "    return a*a\n",
    "sonuc=cikar(a,b)\n",
    "kareal(a)\n",
    "cikar(5,5)"
   ]
  },
  {
   "cell_type": "code",
   "execution_count": 21,
   "id": "1c834a14-1c7e-486d-88f8-cd442b38049a",
   "metadata": {},
   "outputs": [
    {
     "name": "stdout",
     "output_type": "stream",
     "text": [
      "125.0\n"
     ]
    },
    {
     "data": {
      "text/plain": [
       "10"
      ]
     },
     "execution_count": 21,
     "metadata": {},
     "output_type": "execute_result"
    }
   ],
   "source": [
    "def ceyrek(x):\n",
    "    return x/4\n",
    "def küpal(x):\n",
    "    return x*x*x\n",
    "küpal(3)\n",
    "ceyrek(4)\n",
    "küpal(ceyrek(12))\n",
    "print(küpal(ceyrek(20)))\n",
    "liste1=[1,2,3,4,5]\n",
    "liste1 #tek boyutlu dizi\n",
    "#liste tek artırma\n",
    "liste2=[i*2 for i in liste1]\n",
    "liste2\n",
    "kare=lambda x:x*x #kare al fonksiyonu yerine\n",
    "def toplama(x,y):\n",
    "    return x+y\n",
    "toplama(5,5)\n",
    "#lambda ile\n",
    "toplama=lambda x,y: x+y\n",
    "toplama(5,5)"
   ]
  },
  {
   "cell_type": "code",
   "execution_count": 24,
   "id": "cc32d6e5-4e98-41f8-8719-83b7b55f51d6",
   "metadata": {},
   "outputs": [
    {
     "name": "stdout",
     "output_type": "stream",
     "text": [
      "Help on built-in module math:\n",
      "\n",
      "NAME\n",
      "    math\n",
      "\n",
      "DESCRIPTION\n",
      "    This module provides access to the mathematical functions\n",
      "    defined by the C standard.\n",
      "\n",
      "FUNCTIONS\n",
      "    acos(x, /)\n",
      "        Return the arc cosine (measured in radians) of x.\n",
      "        \n",
      "        The result is between 0 and pi.\n",
      "    \n",
      "    acosh(x, /)\n",
      "        Return the inverse hyperbolic cosine of x.\n",
      "    \n",
      "    asin(x, /)\n",
      "        Return the arc sine (measured in radians) of x.\n",
      "        \n",
      "        The result is between -pi/2 and pi/2.\n",
      "    \n",
      "    asinh(x, /)\n",
      "        Return the inverse hyperbolic sine of x.\n",
      "    \n",
      "    atan(x, /)\n",
      "        Return the arc tangent (measured in radians) of x.\n",
      "        \n",
      "        The result is between -pi/2 and pi/2.\n",
      "    \n",
      "    atan2(y, x, /)\n",
      "        Return the arc tangent (measured in radians) of y/x.\n",
      "        \n",
      "        Unlike atan(y/x), the signs of both x and y are considered.\n",
      "    \n",
      "    atanh(x, /)\n",
      "        Return the inverse hyperbolic tangent of x.\n",
      "    \n",
      "    cbrt(x, /)\n",
      "        Return the cube root of x.\n",
      "    \n",
      "    ceil(x, /)\n",
      "        Return the ceiling of x as an Integral.\n",
      "        \n",
      "        This is the smallest integer >= x.\n",
      "    \n",
      "    comb(n, k, /)\n",
      "        Number of ways to choose k items from n items without repetition and without order.\n",
      "        \n",
      "        Evaluates to n! / (k! * (n - k)!) when k <= n and evaluates\n",
      "        to zero when k > n.\n",
      "        \n",
      "        Also called the binomial coefficient because it is equivalent\n",
      "        to the coefficient of k-th term in polynomial expansion of the\n",
      "        expression (1 + x)**n.\n",
      "        \n",
      "        Raises TypeError if either of the arguments are not integers.\n",
      "        Raises ValueError if either of the arguments are negative.\n",
      "    \n",
      "    copysign(x, y, /)\n",
      "        Return a float with the magnitude (absolute value) of x but the sign of y.\n",
      "        \n",
      "        On platforms that support signed zeros, copysign(1.0, -0.0)\n",
      "        returns -1.0.\n",
      "    \n",
      "    cos(x, /)\n",
      "        Return the cosine of x (measured in radians).\n",
      "    \n",
      "    cosh(x, /)\n",
      "        Return the hyperbolic cosine of x.\n",
      "    \n",
      "    degrees(x, /)\n",
      "        Convert angle x from radians to degrees.\n",
      "    \n",
      "    dist(p, q, /)\n",
      "        Return the Euclidean distance between two points p and q.\n",
      "        \n",
      "        The points should be specified as sequences (or iterables) of\n",
      "        coordinates.  Both inputs must have the same dimension.\n",
      "        \n",
      "        Roughly equivalent to:\n",
      "            sqrt(sum((px - qx) ** 2.0 for px, qx in zip(p, q)))\n",
      "    \n",
      "    erf(x, /)\n",
      "        Error function at x.\n",
      "    \n",
      "    erfc(x, /)\n",
      "        Complementary error function at x.\n",
      "    \n",
      "    exp(x, /)\n",
      "        Return e raised to the power of x.\n",
      "    \n",
      "    exp2(x, /)\n",
      "        Return 2 raised to the power of x.\n",
      "    \n",
      "    expm1(x, /)\n",
      "        Return exp(x)-1.\n",
      "        \n",
      "        This function avoids the loss of precision involved in the direct evaluation of exp(x)-1 for small x.\n",
      "    \n",
      "    fabs(x, /)\n",
      "        Return the absolute value of the float x.\n",
      "    \n",
      "    factorial(n, /)\n",
      "        Find n!.\n",
      "        \n",
      "        Raise a ValueError if x is negative or non-integral.\n",
      "    \n",
      "    floor(x, /)\n",
      "        Return the floor of x as an Integral.\n",
      "        \n",
      "        This is the largest integer <= x.\n",
      "    \n",
      "    fmod(x, y, /)\n",
      "        Return fmod(x, y), according to platform C.\n",
      "        \n",
      "        x % y may differ.\n",
      "    \n",
      "    frexp(x, /)\n",
      "        Return the mantissa and exponent of x, as pair (m, e).\n",
      "        \n",
      "        m is a float and e is an int, such that x = m * 2.**e.\n",
      "        If x is 0, m and e are both 0.  Else 0.5 <= abs(m) < 1.0.\n",
      "    \n",
      "    fsum(seq, /)\n",
      "        Return an accurate floating point sum of values in the iterable seq.\n",
      "        \n",
      "        Assumes IEEE-754 floating point arithmetic.\n",
      "    \n",
      "    gamma(x, /)\n",
      "        Gamma function at x.\n",
      "    \n",
      "    gcd(*integers)\n",
      "        Greatest Common Divisor.\n",
      "    \n",
      "    hypot(...)\n",
      "        hypot(*coordinates) -> value\n",
      "        \n",
      "        Multidimensional Euclidean distance from the origin to a point.\n",
      "        \n",
      "        Roughly equivalent to:\n",
      "            sqrt(sum(x**2 for x in coordinates))\n",
      "        \n",
      "        For a two dimensional point (x, y), gives the hypotenuse\n",
      "        using the Pythagorean theorem:  sqrt(x*x + y*y).\n",
      "        \n",
      "        For example, the hypotenuse of a 3/4/5 right triangle is:\n",
      "        \n",
      "            >>> hypot(3.0, 4.0)\n",
      "            5.0\n",
      "    \n",
      "    isclose(a, b, *, rel_tol=1e-09, abs_tol=0.0)\n",
      "        Determine whether two floating point numbers are close in value.\n",
      "        \n",
      "          rel_tol\n",
      "            maximum difference for being considered \"close\", relative to the\n",
      "            magnitude of the input values\n",
      "          abs_tol\n",
      "            maximum difference for being considered \"close\", regardless of the\n",
      "            magnitude of the input values\n",
      "        \n",
      "        Return True if a is close in value to b, and False otherwise.\n",
      "        \n",
      "        For the values to be considered close, the difference between them\n",
      "        must be smaller than at least one of the tolerances.\n",
      "        \n",
      "        -inf, inf and NaN behave similarly to the IEEE 754 Standard.  That\n",
      "        is, NaN is not close to anything, even itself.  inf and -inf are\n",
      "        only close to themselves.\n",
      "    \n",
      "    isfinite(x, /)\n",
      "        Return True if x is neither an infinity nor a NaN, and False otherwise.\n",
      "    \n",
      "    isinf(x, /)\n",
      "        Return True if x is a positive or negative infinity, and False otherwise.\n",
      "    \n",
      "    isnan(x, /)\n",
      "        Return True if x is a NaN (not a number), and False otherwise.\n",
      "    \n",
      "    isqrt(n, /)\n",
      "        Return the integer part of the square root of the input.\n",
      "    \n",
      "    lcm(*integers)\n",
      "        Least Common Multiple.\n",
      "    \n",
      "    ldexp(x, i, /)\n",
      "        Return x * (2**i).\n",
      "        \n",
      "        This is essentially the inverse of frexp().\n",
      "    \n",
      "    lgamma(x, /)\n",
      "        Natural logarithm of absolute value of Gamma function at x.\n",
      "    \n",
      "    log(...)\n",
      "        log(x, [base=math.e])\n",
      "        Return the logarithm of x to the given base.\n",
      "        \n",
      "        If the base not specified, returns the natural logarithm (base e) of x.\n",
      "    \n",
      "    log10(x, /)\n",
      "        Return the base 10 logarithm of x.\n",
      "    \n",
      "    log1p(x, /)\n",
      "        Return the natural logarithm of 1+x (base e).\n",
      "        \n",
      "        The result is computed in a way which is accurate for x near zero.\n",
      "    \n",
      "    log2(x, /)\n",
      "        Return the base 2 logarithm of x.\n",
      "    \n",
      "    modf(x, /)\n",
      "        Return the fractional and integer parts of x.\n",
      "        \n",
      "        Both results carry the sign of x and are floats.\n",
      "    \n",
      "    nextafter(x, y, /)\n",
      "        Return the next floating-point value after x towards y.\n",
      "    \n",
      "    perm(n, k=None, /)\n",
      "        Number of ways to choose k items from n items without repetition and with order.\n",
      "        \n",
      "        Evaluates to n! / (n - k)! when k <= n and evaluates\n",
      "        to zero when k > n.\n",
      "        \n",
      "        If k is not specified or is None, then k defaults to n\n",
      "        and the function returns n!.\n",
      "        \n",
      "        Raises TypeError if either of the arguments are not integers.\n",
      "        Raises ValueError if either of the arguments are negative.\n",
      "    \n",
      "    pow(x, y, /)\n",
      "        Return x**y (x to the power of y).\n",
      "    \n",
      "    prod(iterable, /, *, start=1)\n",
      "        Calculate the product of all the elements in the input iterable.\n",
      "        \n",
      "        The default start value for the product is 1.\n",
      "        \n",
      "        When the iterable is empty, return the start value.  This function is\n",
      "        intended specifically for use with numeric values and may reject\n",
      "        non-numeric types.\n",
      "    \n",
      "    radians(x, /)\n",
      "        Convert angle x from degrees to radians.\n",
      "    \n",
      "    remainder(x, y, /)\n",
      "        Difference between x and the closest integer multiple of y.\n",
      "        \n",
      "        Return x - n*y where n*y is the closest integer multiple of y.\n",
      "        In the case where x is exactly halfway between two multiples of\n",
      "        y, the nearest even value of n is used. The result is always exact.\n",
      "    \n",
      "    sin(x, /)\n",
      "        Return the sine of x (measured in radians).\n",
      "    \n",
      "    sinh(x, /)\n",
      "        Return the hyperbolic sine of x.\n",
      "    \n",
      "    sqrt(x, /)\n",
      "        Return the square root of x.\n",
      "    \n",
      "    tan(x, /)\n",
      "        Return the tangent of x (measured in radians).\n",
      "    \n",
      "    tanh(x, /)\n",
      "        Return the hyperbolic tangent of x.\n",
      "    \n",
      "    trunc(x, /)\n",
      "        Truncates the Real x to the nearest Integral toward 0.\n",
      "        \n",
      "        Uses the __trunc__ magic method.\n",
      "    \n",
      "    ulp(x, /)\n",
      "        Return the value of the least significant bit of the float x.\n",
      "\n",
      "DATA\n",
      "    e = 2.718281828459045\n",
      "    inf = inf\n",
      "    nan = nan\n",
      "    pi = 3.141592653589793\n",
      "    tau = 6.283185307179586\n",
      "\n",
      "FILE\n",
      "    (built-in)\n",
      "\n",
      "\n"
     ]
    }
   ],
   "source": [
    "isim=\"sinan\" \n",
    "password = \"sinan\"\n",
    "\n",
    "\n",
    "# # modül kavramı =>library, dll\n",
    "import math #include,import.....\n",
    "\n",
    "\"\"\"\n",
    "pandas,numpy\n",
    "scikit learn (veri madenciliği)\n",
    "opencv (görüntü işleme)\n",
    "matplotlib,seaborn=>veri görselleştirme\n",
    "\n",
    "math=> matematik işlemleri genelde her prog. dilinde var\n",
    "\"\"\"\n",
    "help(math) #?math"
   ]
  },
  {
   "cell_type": "code",
   "execution_count": 25,
   "id": "4492fd7d-b84e-4725-ba0e-a92c436252ef",
   "metadata": {},
   "outputs": [
    {
     "data": {
      "text/plain": [
       "29"
      ]
     },
     "execution_count": 25,
     "metadata": {},
     "output_type": "execute_result"
    }
   ],
   "source": [
    "import math as matematik\n",
    "matematik.pow(2,2)\n",
    "2**2\n",
    "matematik.cos(60)\n",
    "matematik.sin(60)\n",
    "\n",
    "matematik.sqrt(4)\n",
    "\n",
    "from math import * #tüm math library getirir\n",
    "\n",
    "import time\n",
    "\n",
    "import random\n",
    "\n",
    "rastgele=random.randint(1,100)\n",
    "rastgele"
   ]
  },
  {
   "cell_type": "code",
   "execution_count": null,
   "id": "c623897b-e669-4f57-a983-1f24937e0e61",
   "metadata": {},
   "outputs": [
    {
     "name": "stdin",
     "output_type": "stream",
     "text": [
      "tahmin gir 1-100 arası : 67\n"
     ]
    },
    {
     "name": "stdout",
     "output_type": "stream",
     "text": [
      "kontrol ediliyor\n",
      "sayıyı büyült\n"
     ]
    },
    {
     "name": "stdin",
     "output_type": "stream",
     "text": [
      "tahmin gir 1-100 arası : 98\n"
     ]
    },
    {
     "name": "stdout",
     "output_type": "stream",
     "text": [
      "kontrol ediliyor\n",
      "sayıyı küşçült\n"
     ]
    },
    {
     "name": "stdin",
     "output_type": "stream",
     "text": [
      "tahmin gir 1-100 arası : 85\n"
     ]
    },
    {
     "name": "stdout",
     "output_type": "stream",
     "text": [
      "kontrol ediliyor\n",
      "sayıyı küşçült\n"
     ]
    }
   ],
   "source": [
    "import random\n",
    "import time\n",
    "rastgele=random.randint(1,100)\n",
    "tahmin=5\n",
    "while True:\n",
    "    tahmin=int(input(\"tahmin gir 1-100 arası :\"))\n",
    "    print(\"kontrol ediliyor\")\n",
    "    if( tahmin==rastgele):\n",
    "        print(\"kontrol ediliyor\")\n",
    "        time.sleep(1)\n",
    "        print(\"girilen sayi\",tahmin)\n",
    "        break\n",
    "        print(\"tebrikler\")\n",
    "    elif( tahmin<rastgele):\n",
    "        tahmin=tahmin-1\n",
    "        print(\"sayıyı büyült\")\n",
    "    elif(tahmin>rastgele):\n",
    "        tahmin=tahmin-1\n",
    "        print(\"sayıyı küşçült\")\n",
    "    else:\n",
    "        print(\"1-100 de değer gir\")\n",
    "    if(tahmin==0):\n",
    "        print(\"hak bitti\")\n",
    "break"
   ]
  },
  {
   "cell_type": "code",
   "execution_count": null,
   "id": "26e4e73b-55e9-4e9d-b81a-a9c8aac4ad14",
   "metadata": {},
   "outputs": [],
   "source": []
  }
 ],
 "metadata": {
  "kernelspec": {
   "display_name": "Python 3 (ipykernel)",
   "language": "python",
   "name": "python3"
  },
  "language_info": {
   "codemirror_mode": {
    "name": "ipython",
    "version": 3
   },
   "file_extension": ".py",
   "mimetype": "text/x-python",
   "name": "python",
   "nbconvert_exporter": "python",
   "pygments_lexer": "ipython3",
   "version": "3.11.5"
  }
 },
 "nbformat": 4,
 "nbformat_minor": 5
}
